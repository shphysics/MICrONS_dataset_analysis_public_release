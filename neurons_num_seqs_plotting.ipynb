{
 "cells": [
  {
   "cell_type": "markdown",
   "id": "519d882f",
   "metadata": {},
   "source": [
    "sources are based on: https://github.com/AllenInstitute/MicronsBinder/tree/master/notebooks/mm3_intro "
   ]
  },
  {
   "cell_type": "markdown",
   "id": "0991d75a",
   "metadata": {},
   "source": [
    "# setting up workspace"
   ]
  },
  {
   "cell_type": "code",
   "execution_count": 1,
   "id": "ebaceae4",
   "metadata": {
    "code_folding": [
     0
    ],
    "scrolled": true
   },
   "outputs": [],
   "source": [
    "# import stuff\n",
    "from caveclient import CAVEclient\n",
    "import pandas as pd\n",
    "import numpy as np\n",
    "import scipy.spatial as sci_spatial\n",
    "from scipy.spatial import distance_matrix\n",
    "from tqdm import tqdm\n",
    "import csv\n",
    "import pickle #how to use pickle: https://www.datacamp.com/tutorial/pickle-python-tutorial \n",
    "import utils\n",
    "from nglui import statebuilder\n",
    "import plotly.figure_factory as ff\n",
    "import networkx as nx\n",
    "from itertools import chain, combinations\n",
    "from scipy.cluster.hierarchy import dendrogram\n",
    "import random\n",
    "import statistics\n",
    "import matplotlib.pyplot as plt\n",
    "import sklearn\n",
    "\n",
    "client = CAVEclient()"
   ]
  },
  {
   "cell_type": "code",
   "execution_count": 2,
   "id": "cf9d41c8",
   "metadata": {},
   "outputs": [
    {
     "name": "stdout",
     "output_type": "stream",
     "text": [
      "601\n",
      "verified_ids_len 601\n",
      "492\n"
     ]
    }
   ],
   "source": [
    "#load up the dataset through query # no query for minnie35: https://github.com/seung-lab/CAVEclient/issues/49 \n",
    "client = CAVEclient('minnie65_public_v117') #minnie65_public_v117\n",
    "# client2 = CAVEclient('minnie35_public_v0 ')\n",
    "\n",
    "# Load all the proofreaded neurons (with different proofreadbility)\n",
    "prf_df=client.materialize.query_table('proofreading_status_public_release')\n",
    "\n",
    "statuses_axon = pd.Series(prf_df.loc[:,\"status_axon\"])\n",
    "raw_valid_ids = pd.Series(prf_df.loc[:,\"valid_id\"])\n",
    "# verify that pt_root_id == valid_id for clean axons\n",
    "\n",
    "valid_ids = []\n",
    "for i in range(len(statuses_axon)):\n",
    "    valid_ids.append(raw_valid_ids[i])\n",
    "print(len(valid_ids))\n",
    "\n",
    "verified_ids_len = 0 \n",
    "for i in range(len(valid_ids)):\n",
    "    verified_ids_len += 1\n",
    "print('verified_ids_len', verified_ids_len)\n",
    "\n",
    "neuron_type_df_coverall_notallright=client.materialize.query_table('allen_soma_ei_class_model_v1')\n",
    "ids_of_coverall_notallright_ser = pd.Series(neuron_type_df_coverall_notallright.loc[:,\"pt_root_id\"])\n",
    "types_of_coverall_notallright_ser = pd.Series(neuron_type_df_coverall_notallright.loc[:,\"cell_type\"])\n",
    "\n",
    "# valid_ids\n",
    "ext_neuron_valid_ids_lst = []\n",
    "for i in range(len(ids_of_coverall_notallright_ser)):\n",
    "    if ids_of_coverall_notallright_ser[i] in valid_ids and types_of_coverall_notallright_ser[i] == 'excitatory':\n",
    "        ext_neuron_valid_ids_lst.append(ids_of_coverall_notallright_ser[i])\n",
    "print(len(ext_neuron_valid_ids_lst))\n",
    "\n",
    "\n",
    "valid_ids = ext_neuron_valid_ids_lst\n",
    "\n",
    "# setting up str_num_2_presypneuron and presypneuron_2_str_num to simplify the representation of pre-syp-neuron-id\n",
    "# using string number (e.g.: \"20\") to correspond to the long-digit id of the pre-syp-neuron \n",
    "num_rep_2_presypneuron = {}\n",
    "presypneuron_2_num_rep = {}\n",
    "for i, the_id in enumerate(valid_ids):\n",
    "    num_rep_2_presypneuron[i] = the_id\n",
    "    presypneuron_2_num_rep[the_id] = i"
   ]
  },
  {
   "cell_type": "markdown",
   "id": "07ecf57c",
   "metadata": {},
   "source": [
    "# working on sheezneat"
   ]
  },
  {
   "cell_type": "markdown",
   "id": "66f1615c",
   "metadata": {},
   "source": [
    "#To get a seq of means and std of a given length\n",
    "#create containers for means and std \n",
    "#have to go through all the dict. and select the key and then you get the list of vals"
   ]
  },
  {
   "cell_type": "code",
   "execution_count": 3,
   "id": "4a1d9aa1",
   "metadata": {},
   "outputs": [],
   "source": [
    "# num_seqs_dict_w_diff_num_neurons_lst = [num_seqs_of_30_neurons, num_seqs_of_60_neurons, num_seqs_of_120_neurons, num_seqs_of_240_neurons, num_seqs_of_480_neurons]"
   ]
  },
  {
   "cell_type": "code",
   "execution_count": 4,
   "id": "351ed6b0",
   "metadata": {},
   "outputs": [],
   "source": [
    "# means = {'len3_means':[], 'len4_means':[], 'len5_means':[], 'len6_means':[]}\n",
    "# stds = {'len3_stds':[], 'len4_stds':[], 'len5_stds':[], 'len6_stds':[]}\n",
    "# for seq_dict_w_num_neurons in num_seqs_dict_w_diff_num_neurons_lst:\n",
    "#     for i in range(3, 7):\n",
    "#         the_len = 'len' + str(i)\n",
    "#         num_seqs_vals = seq_dict_w_num_neurons[the_len]\n",
    "#         mean_key = 'len' + str(i) + '_means'\n",
    "#         std_key = 'len' + str(i) + '_stds'\n",
    "#         mean_val = statistics.mean(num_seqs_vals)\n",
    "#         std_val = statistics.pstdev(num_seqs_vals)\n",
    "#         means[mean_key].append(mean_val)\n",
    "#         stds[std_key].append(std_val)"
   ]
  },
  {
   "cell_type": "code",
   "execution_count": 5,
   "id": "bf619394",
   "metadata": {},
   "outputs": [],
   "source": [
    "# df_1 = pd.DataFrame({ #from kd tree with radius = 10um\n",
    "#     'insert': [30, 60, 120, 240, 480, 30, 60, 120, 240, 480, 30, 60, 120, 240, 480, 30, 60, 120, 240, 480],\n",
    "#     'mean': [13.25, 27.65, 65.9, 187.65, 551.05,\n",
    "#              3.8, 8.65, 17.6, 48.65, 142.95,\n",
    "#             1.65, 3.35, 7.35, 19.8, 54.4,\n",
    "#             0.6, 1.7, 2.5, 6.2, 17.05],\n",
    "#     'std': [2.48746859276655, 5.121279137090655, 7.034912934784623, 9.561772848169946, 7.921331958704925,\n",
    "#             2.249444375840399, 2.6509432283623124, 4.223742416388575, 7.702434680021636, 4.200892762258994, \n",
    "#             1.1947803145348521, 1.6209565077447328, 2.5548972582082436, 4.214261501141095, 2.2671568097509267,\n",
    "#             0.58309518948453, 1.1445523142259597, 1.5968719422671311, 1.8867962264113207, 1.2031209415515964\n",
    "#            ],\n",
    "#     'length': ['len3', 'len3', 'len3', 'len3', 'len3',\n",
    "#                'len4', 'len4', 'len4', 'len4', 'len4',\n",
    "#               'len5', 'len5', 'len5', 'len5', 'len5',\n",
    "#               'len6', 'len6', 'len6', 'len6', 'len6']})"
   ]
  },
  {
   "cell_type": "code",
   "execution_count": 6,
   "id": "b1e0d950",
   "metadata": {},
   "outputs": [],
   "source": [
    "# df_2 = pd.DataFrame({ #from kd tree with radius = 5um\n",
    "#     'insert': [30, 60, 120, 240, 480, 30, 60, 120, 240, 480, 30, 60, 120, 240, 480, 30, 60, 120, 240, 480],\n",
    "#     'mean': [8.45, 19.25, 41.35, 101.55, 280.4,\n",
    "#              1.5, 3.6, 8.35, 21.25, 50.5,\n",
    "#             0.5, 0.85, 2.6, 5.6, 15.55,\n",
    "#             0.2, 0.2, 0.8, 1.6, 4.85],\n",
    "#     'std': [3.6670833096617805, 4.61383788185064, 6.279132105633708, 11.083659143080862, 6.232174580353153,\n",
    "#             1.3601470508735443, 1.9078784028338913, 2.868361901852693, 3.7399866309921483, 1.6278820596099706, \n",
    "#             0.7416198487095663, 0.7262919523166975, 1.5297058540778357, 1.8, 0.7399324293474371,\n",
    "#             0.5099019513592785, 0.4, 0.4, 0.9695359714832659, 0.3570714214271425\n",
    "#            ],\n",
    "#     'length': ['len3', 'len3', 'len3', 'len3', 'len3',\n",
    "#                'len4', 'len4', 'len4', 'len4', 'len4',\n",
    "#               'len5', 'len5', 'len5', 'len5', 'len5',\n",
    "#               'len6', 'len6', 'len6', 'len6', 'len6']})"
   ]
  },
  {
   "cell_type": "code",
   "execution_count": 7,
   "id": "362ed518",
   "metadata": {},
   "outputs": [],
   "source": [
    "# fig, ax = plt.subplots()\n",
    "# for key, group in df_1.groupby('length'):\n",
    "#     if key != 'len6':\n",
    "#         group.plot('insert', 'mean', label=key, ax=ax)\n",
    "#         plt.fill_between([30, 60, 120, 240, 480], np.clip(np.array(group['mean'])-np.array(group['std']), 0, None), np.array(group['mean'])+np.array(group['std']), alpha=0.1)\n",
    "\n",
    "# plt.xscale(\"log\")\n",
    "# plt.yscale(\"log\")\n",
    "# plt.ylim([1e-1, 500])\n",
    "\n",
    "# plt.show()"
   ]
  },
  {
   "cell_type": "code",
   "execution_count": 8,
   "id": "33bc675e",
   "metadata": {},
   "outputs": [],
   "source": [
    "# print('using radius = 5um for the kd tree')\n",
    "# legends = []\n",
    "# for i in range(3, 7):\n",
    "#     occurences = [len(seqs_with_post_neuron_lst[key]) for key in seqs_with_post_neuron_lst if len(key)==i]\n",
    "#     occ_array = np.array(occurences)\n",
    "#     print('ttl number of seqs with len' + str(i) + ' = ' + str(len(occ_array)))\n",
    "#     plt.plot(np.sort(occ_array), np.linspace(0, 1, len(occ_array), endpoint=False))\n",
    "#     plt.ylim([0.5, 1])\n",
    "#     plt.xscale(\"log\")\n",
    "#     legends.append('len' + str(i))\n",
    "# plt.legend(legends)\n",
    "# plt.title(\"cdf of number of occurance on log scale\")\n",
    "# plt.show()"
   ]
  },
  {
   "cell_type": "code",
   "execution_count": 10,
   "id": "7a69da0f",
   "metadata": {},
   "outputs": [],
   "source": [
    "seqs_with_post_neuron_lst = utils.load_obj_from_filename('seqs_with_post_neuron_lst_10um')\n",
    "syp_ids_of_seqs_with_post_neuron_lst = utils.load_obj_from_filename('syp_ids_of_seqs_with_post_neuron_lst_10um')"
   ]
  },
  {
   "cell_type": "code",
   "execution_count": 11,
   "id": "5677b0e0",
   "metadata": {},
   "outputs": [],
   "source": [
    "ns = np.round(np.logspace(np.log10(60), np.log10(480), 8, base=10)).astype(int)\n",
    "# ns = [ 60,  81, 109, 120, 197, 265, 357, 480]\n",
    "q = 101\n",
    "cts = np.zeros((3,8,q))\n",
    "for k,p in enumerate([3, 4, 5]):\n",
    "    a_lst = utils.get_seq_with_length_n_of_unique_keys_for_occur_more_than_m_times_w_type_lst(p, 0, seqs_with_post_neuron_lst)\n",
    "    for j, n in enumerate(ns):\n",
    "        for i in range(q):\n",
    "            sampled_neurons = random.sample(valid_ids, n)\n",
    "            ct = 0 \n",
    "            for elem in a_lst:\n",
    "                ct += np.all([e in sampled_neurons for e in elem])\n",
    "            cts[k,j,i] = ct"
   ]
  },
  {
   "cell_type": "code",
   "execution_count": 12,
   "id": "4014fbcb",
   "metadata": {},
   "outputs": [],
   "source": [
    "from sklearn.linear_model import LinearRegression"
   ]
  },
  {
   "cell_type": "code",
   "execution_count": 13,
   "id": "2015053c",
   "metadata": {},
   "outputs": [
    {
     "name": "stdout",
     "output_type": "stream",
     "text": [
      "[[2.94022768]] [-13.49356789]\n"
     ]
    }
   ],
   "source": [
    "X = np.outer(ns, np.ones(q)).flatten()[:,None]\n",
    "Y = cts[0].flatten()[:,None]\n",
    "reg = LinearRegression().fit(np.log(ns)[:,None], np.log(cts[0].mean(axis=1))[:,None])\n",
    "print(reg.coef_, reg.intercept_)"
   ]
  },
  {
   "cell_type": "code",
   "execution_count": 14,
   "id": "fc2931e0",
   "metadata": {},
   "outputs": [
    {
     "name": "stdout",
     "output_type": "stream",
     "text": [
      "[[3.72580352]] [-21.04904786]\n"
     ]
    }
   ],
   "source": [
    "X = np.outer(ns, np.ones(q)).flatten()[:,None]\n",
    "y = cts[1].mean(axis=1)\n",
    "reg = LinearRegression().fit(np.log(ns[y>0])[:,None], np.log(y[y>0])[:,None])\n",
    "print(reg.coef_, reg.intercept_)"
   ]
  },
  {
   "cell_type": "code",
   "execution_count": 15,
   "id": "192bc123",
   "metadata": {},
   "outputs": [
    {
     "name": "stdout",
     "output_type": "stream",
     "text": [
      "[[5.11412366]] [-31.11976021]\n"
     ]
    }
   ],
   "source": [
    "X = np.outer(ns, np.ones(q)).flatten()[:,None]\n",
    "y = cts[2].mean(axis=1)\n",
    "reg = LinearRegression().fit(np.log(ns[y>0])[:,None], np.log(y[y>0])[:,None])\n",
    "\n",
    "print(reg.coef_, reg.intercept_)"
   ]
  },
  {
   "cell_type": "code",
   "execution_count": 16,
   "id": "078dbc2f",
   "metadata": {},
   "outputs": [],
   "source": [
    "coefs_and_inters = np.array([[3.07332278, -14.20561333], [4.24462326, -24.00973153], [5.0591984, -30.60226101]])"
   ]
  },
  {
   "cell_type": "code",
   "execution_count": 17,
   "id": "b850c7f2",
   "metadata": {},
   "outputs": [],
   "source": [
    "from matplotlib import ticker as mticker"
   ]
  },
  {
   "cell_type": "code",
   "execution_count": 18,
   "id": "308291b6",
   "metadata": {},
   "outputs": [],
   "source": [
    "data = np.percentile(cts[0], [5, 50, 95], axis=1)"
   ]
  },
  {
   "cell_type": "code",
   "execution_count": 19,
   "id": "04e38218",
   "metadata": {},
   "outputs": [
    {
     "name": "stdout",
     "output_type": "stream",
     "text": [
      "[[  0.   0.   0.   0.   3.  10.  35. 103.]\n",
      " [  0.   0.   1.   3.   8.  18.  46. 111.]\n",
      " [  1.   2.   4.   6.  11.  25.  56. 118.]]\n"
     ]
    }
   ],
   "source": [
    "print(data)"
   ]
  },
  {
   "cell_type": "code",
   "execution_count": 23,
   "id": "8b6a3826",
   "metadata": {},
   "outputs": [
    {
     "name": "stdout",
     "output_type": "stream",
     "text": [
      "(3, 8)\n",
      "(3, 8)\n"
     ]
    },
    {
     "data": {
      "image/png": "[encoded data removed]",
      "text/plain": [
       "<Figure size 1296x864 with 1 Axes>"
      ]
     },
     "metadata": {
      "needs_background": "light"
     },
     "output_type": "display_data"
    }
   ],
   "source": [
    "fig, ax = plt.subplots(figsize = (18,12))\n",
    "ax.tick_params(axis='both', which='minor', labelsize=36, length=10, width=2)\n",
    "ax.tick_params(axis='both', which='major', labelsize=36, length=10, width=2)\n",
    "ax.tick_params(axis='y', which='minor', labelsize=24, length=5, width=2)\n",
    "\n",
    "\n",
    "right_side = ax.spines[\"right\"]\n",
    "right_side.set_visible(False)\n",
    "top_side = ax.spines[\"top\"]\n",
    "top_side.set_visible(False)\n",
    "\n",
    "labels = ['Triplet', 'Quadruplet']\n",
    "colors = ['tab:blue', 'tab:orange', 'tab:green']\n",
    "for k,p in enumerate([3, 4]):\n",
    "    data = np.percentile(cts[k], [5, 50, 95], axis=1)\n",
    "    \n",
    "    means = cts[k].mean(axis = 1)\n",
    "    print(data.shape)\n",
    "    stds = cts[k].std(axis=1)\n",
    "    means_lower = np.clip(means - stds, 0, None)\n",
    "    means_upper = means + stds\n",
    "    plt.scatter(ns, data[1], s = 100, color = colors[k])\n",
    "    plt.fill_between(ns, data[0], data[2], alpha = 0.1)\n",
    "    \n",
    "    b = coefs_and_inters[k][0]\n",
    "    a = coefs_and_inters[k][1]\n",
    "    if k == 0:\n",
    "        x = np.linspace(100,500, 100)\n",
    "        y = np.exp(a) * x**(b)\n",
    "    if k == 1:\n",
    "        x = np.linspace(250,500, 100)\n",
    "        y = np.exp(a) * x**(b)\n",
    "    if k == 2:\n",
    "        x = np.linspace(450,500, 100)\n",
    "        y = np.exp(a) * x**(b)\n",
    "    plt.plot(x, y, color = colors[k], label = labels[k], linewidth=2)\n",
    "\n",
    "\n",
    "plt.xscale('log')\n",
    "plt.yscale('log')\n",
    "leg = ax.legend()\n",
    "\n",
    "leg = plt.legend(fontsize = 36, frameon=False)\n",
    "leg.get_lines()[0].set_linewidth(6)\n",
    "leg.get_lines()[1].set_linewidth(6)\n",
    "    \n",
    "plt.xlim([100, 490])\n",
    "plt.ylim([0.8, 150])\n",
    "plt.xlabel('Number of Neurons', fontsize = 36)\n",
    "plt.ylabel('Number of Sequences', fontsize = 36)\n",
    "\n",
    "ax.xaxis.set_minor_formatter(mticker.ScalarFormatter())\n",
    "ax.xaxis.get_minor_formatter().set_scientific(False)\n",
    "ax.xaxis.set_major_formatter(mticker.ScalarFormatter())\n",
    "ax.xaxis.get_major_formatter().set_scientific(False)\n",
    "ax.yaxis.set_major_formatter(mticker.ScalarFormatter())\n",
    "ax.yaxis.get_major_formatter().set_scientific(False)\n",
    "plt.xticks(fontsize=36)\n",
    "plt.yticks(fontsize=36)\n",
    "\n",
    "plt.savefig('lol', bbox_inches = 'tight')\n",
    "plt.show()"
   ]
  },
  {
   "cell_type": "code",
   "execution_count": null,
   "id": "2b145164",
   "metadata": {},
   "outputs": [],
   "source": [
    "cts[2].mean(axis=1)"
   ]
  },
  {
   "cell_type": "code",
   "execution_count": null,
   "id": "5ac5b08a",
   "metadata": {},
   "outputs": [],
   "source": [
    "cts[1].mean(axis=1)"
   ]
  },
  {
   "cell_type": "code",
   "execution_count": null,
   "id": "a1f2293b",
   "metadata": {},
   "outputs": [],
   "source": [
    "cts[0].mean(axis=1)"
   ]
  },
  {
   "cell_type": "code",
   "execution_count": null,
   "id": "00ef0212",
   "metadata": {},
   "outputs": [],
   "source": [
    "print(ns)"
   ]
  },
  {
   "cell_type": "code",
   "execution_count": null,
   "id": "37889d43",
   "metadata": {},
   "outputs": [],
   "source": [
    "x = np.linspace(0,500,100)\n",
    "y = 3.07332278*x - 14.20561333\n",
    "plt.plot(x, y, '-r', label='y=mx+b')\n",
    "plt.title('Graph of')\n",
    "plt.xlabel('x', color='#1C2833')\n",
    "plt.ylabel('y', color='#1C2833')\n",
    "plt.legend(loc='upper left')\n",
    "plt.grid()\n",
    "plt.show()"
   ]
  },
  {
   "cell_type": "code",
   "execution_count": null,
   "id": "1956836d",
   "metadata": {},
   "outputs": [],
   "source": []
  },
  {
   "cell_type": "code",
   "execution_count": null,
   "id": "738058ee",
   "metadata": {},
   "outputs": [],
   "source": []
  },
  {
   "cell_type": "code",
   "execution_count": null,
   "id": "54c17bee",
   "metadata": {},
   "outputs": [],
   "source": []
  },
  {
   "cell_type": "markdown",
   "id": "ab56bdcd",
   "metadata": {},
   "source": [
    "### calculate pairwise distances for a selected seq syps"
   ]
  },
  {
   "cell_type": "markdown",
   "id": "622149d0",
   "metadata": {},
   "source": [
    "post syp neuron ending with 018 (but the post syp neuron is an \"inhibitary\" neuron based on the dataset but it's not proofreaded)\n",
    "\n",
    "syps voxel pos:\n",
    "\n",
    "(310682, 157938, 20942)\n",
    "\n",
    "(310202, 158624, 20948)\n",
    "\n",
    "(309638, 159332, 20949)"
   ]
  },
  {
   "cell_type": "code",
   "execution_count": 319,
   "id": "3f9dfbc1",
   "metadata": {},
   "outputs": [],
   "source": [
    "syps_voxel_pos = np.matrix([[310682, 157938, 20942], \n",
    "                           [310202, 158624, 20948],\n",
    "                           [309638, 159332, 20949]])"
   ]
  },
  {
   "cell_type": "code",
   "execution_count": 320,
   "id": "564fd596",
   "metadata": {},
   "outputs": [],
   "source": [
    "conversion_array = np.array([4, 4, 40])\n",
    "syp_xyz_pos = np.empty_like(syps_voxel_pos)\n",
    "for i in range(np.shape(syps_voxel_pos)[0]):\n",
    "    syp_xyz_pos[i] = np.multiply(syps_voxel_pos[i], conversion_array)"
   ]
  },
  {
   "cell_type": "code",
   "execution_count": 321,
   "id": "b6a61a56",
   "metadata": {},
   "outputs": [
    {
     "data": {
      "text/plain": [
       "matrix([[1242728,  631752,  837680],\n",
       "        [1240808,  634496,  837920],\n",
       "        [1238552,  637328,  837960]])"
      ]
     },
     "execution_count": 321,
     "metadata": {},
     "output_type": "execute_result"
    }
   ],
   "source": [
    "syp_xyz_pos"
   ]
  },
  {
   "cell_type": "code",
   "execution_count": 322,
   "id": "d08ad44f",
   "metadata": {},
   "outputs": [],
   "source": [
    "row_0_1_dist = np.linalg.norm((syp_xyz_pos[0] - syp_xyz_pos[1]))\n",
    "row_0_2_dist = np.linalg.norm((syp_xyz_pos[0] - syp_xyz_pos[2]))\n",
    "row_1_2_dist = np.linalg.norm((syp_xyz_pos[1] - syp_xyz_pos[2]))"
   ]
  },
  {
   "cell_type": "code",
   "execution_count": 323,
   "id": "3760118e",
   "metadata": {},
   "outputs": [
    {
     "name": "stdout",
     "output_type": "stream",
     "text": [
      "3.3576086728503665\n",
      "6.972026391229454\n",
      "3.620961198356039\n"
     ]
    }
   ],
   "source": [
    "print(row_0_1_dist/1000)\n",
    "print(row_0_2_dist/1000)\n",
    "print(row_1_2_dist/1000)"
   ]
  },
  {
   "cell_type": "code",
   "execution_count": null,
   "id": "c3e853c2",
   "metadata": {},
   "outputs": [],
   "source": []
  },
  {
   "cell_type": "markdown",
   "id": "7afbd56d",
   "metadata": {},
   "source": [
    "post syp neuron ending with 754 (all the neurons are excit.)\n",
    "\n",
    "(296066, 178458, 23879)\n",
    "\n",
    "(296571, 178627, 23896)\n",
    "\n",
    "\n",
    "(297712, 178328, 23881)"
   ]
  },
  {
   "cell_type": "code",
   "execution_count": 328,
   "id": "86e4287e",
   "metadata": {},
   "outputs": [
    {
     "name": "stdout",
     "output_type": "stream",
     "text": [
      "2.236017889016096\n",
      "6.60498720664923\n",
      "4.756102606126155\n"
     ]
    }
   ],
   "source": [
    "syp_voxel_pos_2 = np.matrix([[296066, 178458, 23879], \n",
    "                           [296571, 178627, 23896],\n",
    "                           [297712, 178328, 23881]])\n",
    "\n",
    "conversion_array = np.array([4, 4, 40])\n",
    "syp_xyz_pos_2 = np.empty_like(syp_voxel_pos_2)\n",
    "for i in range(np.shape(syp_voxel_pos_2)[0]):\n",
    "    syp_xyz_pos_2[i] = np.multiply(syp_voxel_pos_2[i], conversion_array)\n",
    "\n",
    "row_0_1_dist_2 = np.linalg.norm((syp_xyz_pos_2[0] - syp_xyz_pos_2[1]))\n",
    "row_0_2_dist_2 = np.linalg.norm((syp_xyz_pos_2[0] - syp_xyz_pos_2[2]))\n",
    "row_1_2_dist_2 = np.linalg.norm((syp_xyz_pos_2[1] - syp_xyz_pos_2[2]))\n",
    "\n",
    "print(row_0_1_dist_2/1000)\n",
    "print(row_0_2_dist_2/1000)\n",
    "print(row_1_2_dist_2/1000)"
   ]
  },
  {
   "cell_type": "code",
   "execution_count": null,
   "id": "42a02af1",
   "metadata": {},
   "outputs": [],
   "source": []
  }
 ],
 "metadata": {
  "kernelspec": {
   "display_name": "Python 3 (ipykernel)",
   "language": "python",
   "name": "python3"
  },
  "language_info": {
   "codemirror_mode": {
    "name": "ipython",
    "version": 3
   },
   "file_extension": ".py",
   "mimetype": "text/x-python",
   "name": "python",
   "nbconvert_exporter": "python",
   "pygments_lexer": "ipython3",
   "version": "3.7.0"
  }
 },
 "nbformat": 4,
 "nbformat_minor": 5
}

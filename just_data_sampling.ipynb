{
 "cells": [
  {
   "cell_type": "markdown",
   "id": "7efb8521",
   "metadata": {},
   "source": [
    "sources are based on: https://github.com/AllenInstitute/MicronsBinder/tree/master/notebooks/mm3_intro "
   ]
  },
  {
   "cell_type": "markdown",
   "id": "1ee1d884",
   "metadata": {},
   "source": [
    "# setting up workspace"
   ]
  },
  {
   "cell_type": "code",
   "execution_count": 1,
   "id": "62a8b493",
   "metadata": {
    "code_folding": [
     0
    ],
    "scrolled": true
   },
   "outputs": [],
   "source": [
    "# import stuff\n",
    "from caveclient import CAVEclient\n",
    "import pandas as pd\n",
    "import numpy as np\n",
    "import scipy.spatial as sci_spatial\n",
    "from scipy.spatial import distance_matrix\n",
    "from tqdm import tqdm\n",
    "import csv\n",
    "import pickle #how to use pickle: https://www.datacamp.com/tutorial/pickle-python-tutorial \n",
    "import utils\n",
    "from nglui import statebuilder\n",
    "import plotly.figure_factory as ff\n",
    "import networkx as nx\n",
    "from itertools import chain, combinations\n",
    "from scipy.cluster.hierarchy import dendrogram\n",
    "import random\n",
    "\n",
    "client = CAVEclient()"
   ]
  },
  {
   "cell_type": "code",
   "execution_count": 2,
   "id": "2cfa87f6",
   "metadata": {
    "code_folding": [
     0
    ],
    "scrolled": true
   },
   "outputs": [],
   "source": [
    "# uncomment the following line below to get new token if one has not previously done so; comment out if one has already done \n",
    "# client.auth.get_new_token()\n",
    "\n",
    "# uncomment the following line below to get new token if one has not previously done so; comment out if one has already done \n",
    "# client.auth.save_token(token=\"55d33f46f502c5c22535abf93c68cdb0\")\n",
    "\n",
    "# double checking the token number \n",
    "# auth = client.auth\n",
    "# print(f\"My current token is: {auth.token}\")"
   ]
  },
  {
   "cell_type": "code",
   "execution_count": 3,
   "id": "39a53564",
   "metadata": {
    "code_folding": [
     0
    ]
   },
   "outputs": [],
   "source": [
    "#load up the dataset through query # no query for minnie35: https://github.com/seung-lab/CAVEclient/issues/49 \n",
    "client = CAVEclient('minnie65_public_v117') #minnie65_public_v117\n",
    "# client2 = CAVEclient('minnie35_public_v0 ')"
   ]
  },
  {
   "cell_type": "code",
   "execution_count": 4,
   "id": "58a8a879",
   "metadata": {
    "code_folding": [
     0
    ]
   },
   "outputs": [
    {
     "data": {
      "text/plain": [
       "['nucleus_detection_v0',\n",
       " 'synapses_pni_2',\n",
       " 'nucleus_neuron_svm',\n",
       " 'proofreading_status_public_release',\n",
       " 'func_unit_em_match_release',\n",
       " 'allen_soma_ei_class_model_v1',\n",
       " 'allen_visp_column_soma_coarse_types_v1']"
      ]
     },
     "execution_count": 4,
     "metadata": {},
     "output_type": "execute_result"
    }
   ],
   "source": [
    "#view the tables we can query from the materialization engine\n",
    "client.materialize.get_tables()"
   ]
  },
  {
   "cell_type": "markdown",
   "id": "07c205ae",
   "metadata": {},
   "source": [
    "working to connect the pre-post synaptic graph. source: https://github.com/AllenInstitute/MicronsBinder/blob/master/notebooks/mm3_intro/SynapseAndAnnotationQuery.ipynb "
   ]
  },
  {
   "cell_type": "code",
   "execution_count": 5,
   "id": "c6bc1699",
   "metadata": {
    "code_folding": [
     0
    ]
   },
   "outputs": [],
   "source": [
    "# this shows you the basic information about this datastack within CAVE\n",
    "# client.info.get_datastack_info()"
   ]
  },
  {
   "cell_type": "code",
   "execution_count": 6,
   "id": "976f4ee3",
   "metadata": {
    "code_folding": [
     0
    ]
   },
   "outputs": [],
   "source": [
    "# Load all the proofreaded neurons (with different proofreadbility)\n",
    "prf_df=client.materialize.query_table('proofreading_status_public_release')"
   ]
  },
  {
   "cell_type": "code",
   "execution_count": 7,
   "id": "121655df",
   "metadata": {},
   "outputs": [
    {
     "data": {
      "text/plain": [
       "601"
      ]
     },
     "execution_count": 7,
     "metadata": {},
     "output_type": "execute_result"
    }
   ],
   "source": [
    "len(prf_df)"
   ]
  },
  {
   "cell_type": "code",
   "execution_count": 8,
   "id": "e095942c",
   "metadata": {},
   "outputs": [
    {
     "data": {
      "text/html": [
       "<div>\n",
       "<style scoped>\n",
       "    .dataframe tbody tr th:only-of-type {\n",
       "        vertical-align: middle;\n",
       "    }\n",
       "\n",
       "    .dataframe tbody tr th {\n",
       "        vertical-align: top;\n",
       "    }\n",
       "\n",
       "    .dataframe thead th {\n",
       "        text-align: right;\n",
       "    }\n",
       "</style>\n",
       "<table border=\"1\" class=\"dataframe\">\n",
       "  <thead>\n",
       "    <tr style=\"text-align: right;\">\n",
       "      <th></th>\n",
       "      <th>id</th>\n",
       "      <th>valid</th>\n",
       "      <th>pt_supervoxel_id</th>\n",
       "      <th>pt_root_id</th>\n",
       "      <th>valid_id</th>\n",
       "      <th>status_dendrite</th>\n",
       "      <th>status_axon</th>\n",
       "      <th>pt_position</th>\n",
       "    </tr>\n",
       "  </thead>\n",
       "  <tbody>\n",
       "    <tr>\n",
       "      <th>0</th>\n",
       "      <td>1</td>\n",
       "      <td>t</td>\n",
       "      <td>89529934389098311</td>\n",
       "      <td>864691136296964635</td>\n",
       "      <td>864691136296964635</td>\n",
       "      <td>extended</td>\n",
       "      <td>non</td>\n",
       "      <td>[179808, 216672, 23361]</td>\n",
       "    </tr>\n",
       "    <tr>\n",
       "      <th>1</th>\n",
       "      <td>2</td>\n",
       "      <td>t</td>\n",
       "      <td>90584228533843146</td>\n",
       "      <td>864691136311986237</td>\n",
       "      <td>864691136311986237</td>\n",
       "      <td>extended</td>\n",
       "      <td>non</td>\n",
       "      <td>[187840, 207232, 22680]</td>\n",
       "    </tr>\n",
       "    <tr>\n",
       "      <th>2</th>\n",
       "      <td>3</td>\n",
       "      <td>t</td>\n",
       "      <td>89528353773943370</td>\n",
       "      <td>864691135355207119</td>\n",
       "      <td>864691135355207119</td>\n",
       "      <td>extended</td>\n",
       "      <td>non</td>\n",
       "      <td>[180016, 204592, 22798]</td>\n",
       "    </tr>\n",
       "    <tr>\n",
       "      <th>3</th>\n",
       "      <td>4</td>\n",
       "      <td>t</td>\n",
       "      <td>91077153340676495</td>\n",
       "      <td>864691135355207375</td>\n",
       "      <td>864691135355207375</td>\n",
       "      <td>extended</td>\n",
       "      <td>non</td>\n",
       "      <td>[191424, 209888, 22845]</td>\n",
       "    </tr>\n",
       "    <tr>\n",
       "      <th>4</th>\n",
       "      <td>5</td>\n",
       "      <td>t</td>\n",
       "      <td>88897234233461709</td>\n",
       "      <td>864691136422983727</td>\n",
       "      <td>864691136422983727</td>\n",
       "      <td>extended</td>\n",
       "      <td>non</td>\n",
       "      <td>[175248, 220944, 23561]</td>\n",
       "    </tr>\n",
       "  </tbody>\n",
       "</table>\n",
       "</div>"
      ],
      "text/plain": [
       "   id valid   pt_supervoxel_id          pt_root_id            valid_id  \\\n",
       "0   1     t  89529934389098311  864691136296964635  864691136296964635   \n",
       "1   2     t  90584228533843146  864691136311986237  864691136311986237   \n",
       "2   3     t  89528353773943370  864691135355207119  864691135355207119   \n",
       "3   4     t  91077153340676495  864691135355207375  864691135355207375   \n",
       "4   5     t  88897234233461709  864691136422983727  864691136422983727   \n",
       "\n",
       "  status_dendrite status_axon              pt_position  \n",
       "0        extended         non  [179808, 216672, 23361]  \n",
       "1        extended         non  [187840, 207232, 22680]  \n",
       "2        extended         non  [180016, 204592, 22798]  \n",
       "3        extended         non  [191424, 209888, 22845]  \n",
       "4        extended         non  [175248, 220944, 23561]  "
      ]
     },
     "execution_count": 8,
     "metadata": {},
     "output_type": "execute_result"
    }
   ],
   "source": [
    "prf_df.head()"
   ]
  },
  {
   "cell_type": "code",
   "execution_count": 9,
   "id": "d728ccf1",
   "metadata": {},
   "outputs": [
    {
     "name": "stdout",
     "output_type": "stream",
     "text": [
      "601\n"
     ]
    }
   ],
   "source": [
    "statuses_axon = pd.Series(prf_df.loc[:,\"status_axon\"])\n",
    "print(len(statuses_axon))"
   ]
  },
  {
   "cell_type": "code",
   "execution_count": 10,
   "id": "8b3501a0",
   "metadata": {
    "code_folding": [
     0
    ]
   },
   "outputs": [],
   "source": [
    "# not_non_axon_count = 0 \n",
    "# for i in range(len(statuses_axon)):\n",
    "#     if statuses_axon[i] != \"non\":\n",
    "#         not_non_axon_count += 1\n",
    "# print(not_non_axon_count)"
   ]
  },
  {
   "cell_type": "code",
   "execution_count": 11,
   "id": "990474da",
   "metadata": {},
   "outputs": [],
   "source": [
    "raw_valid_ids = pd.Series(prf_df.loc[:,\"valid_id\"])"
   ]
  },
  {
   "cell_type": "code",
   "execution_count": 12,
   "id": "7f2781ad",
   "metadata": {},
   "outputs": [
    {
     "data": {
      "text/plain": [
       "601"
      ]
     },
     "execution_count": 12,
     "metadata": {},
     "output_type": "execute_result"
    }
   ],
   "source": [
    "len(raw_valid_ids)"
   ]
  },
  {
   "cell_type": "code",
   "execution_count": 13,
   "id": "db03074f",
   "metadata": {},
   "outputs": [],
   "source": [
    "# len(raw_valid_ids)"
   ]
  },
  {
   "cell_type": "code",
   "execution_count": 14,
   "id": "59a14c1d",
   "metadata": {
    "code_folding": [
     0
    ]
   },
   "outputs": [
    {
     "name": "stdout",
     "output_type": "stream",
     "text": [
      "601\n"
     ]
    }
   ],
   "source": [
    "# valid_ids = []\n",
    "# for i in range(len(statuses_axon)):\n",
    "#     if statuses_axon[i] != \"non\":\n",
    "#         valid_ids.append(raw_valid_ids[i])\n",
    "# print(len(valid_ids))\n",
    "\n",
    "valid_ids = []\n",
    "for i in range(len(statuses_axon)):\n",
    "    valid_ids.append(raw_valid_ids[i])\n",
    "print(len(valid_ids))"
   ]
  },
  {
   "cell_type": "code",
   "execution_count": 15,
   "id": "51ca7983",
   "metadata": {
    "code_folding": [
     0
    ]
   },
   "outputs": [
    {
     "name": "stdout",
     "output_type": "stream",
     "text": [
      "verified_ids_len 601\n"
     ]
    }
   ],
   "source": [
    "# verify that pt_root_id == valid_id for clean axons\n",
    "verified_ids_len = 0 \n",
    "for i in range(len(valid_ids)):\n",
    "    verified_ids_len += 1\n",
    "print('verified_ids_len', verified_ids_len)"
   ]
  },
  {
   "cell_type": "code",
   "execution_count": 16,
   "id": "972bf027",
   "metadata": {},
   "outputs": [],
   "source": [
    "neuron_type_df_coverall_notallright=client.materialize.query_table('allen_soma_ei_class_model_v1')"
   ]
  },
  {
   "cell_type": "code",
   "execution_count": 17,
   "id": "1254fb64",
   "metadata": {
    "scrolled": true
   },
   "outputs": [
    {
     "data": {
      "text/html": [
       "<div>\n",
       "<style scoped>\n",
       "    .dataframe tbody tr th:only-of-type {\n",
       "        vertical-align: middle;\n",
       "    }\n",
       "\n",
       "    .dataframe tbody tr th {\n",
       "        vertical-align: top;\n",
       "    }\n",
       "\n",
       "    .dataframe thead th {\n",
       "        text-align: right;\n",
       "    }\n",
       "</style>\n",
       "<table border=\"1\" class=\"dataframe\">\n",
       "  <thead>\n",
       "    <tr style=\"text-align: right;\">\n",
       "      <th></th>\n",
       "      <th>id</th>\n",
       "      <th>valid</th>\n",
       "      <th>classification_system</th>\n",
       "      <th>cell_type</th>\n",
       "      <th>pt_supervoxel_id</th>\n",
       "      <th>pt_root_id</th>\n",
       "      <th>pt_position</th>\n",
       "    </tr>\n",
       "  </thead>\n",
       "  <tbody>\n",
       "    <tr>\n",
       "      <th>0</th>\n",
       "      <td>485509</td>\n",
       "      <td>t</td>\n",
       "      <td>aibs_coarse_excitatory</td>\n",
       "      <td>excitatory</td>\n",
       "      <td>103588564537113366</td>\n",
       "      <td>864691136740606812</td>\n",
       "      <td>[282608, 103808, 20318]</td>\n",
       "    </tr>\n",
       "    <tr>\n",
       "      <th>1</th>\n",
       "      <td>113721</td>\n",
       "      <td>t</td>\n",
       "      <td>aibs_coarse_excitatory</td>\n",
       "      <td>excitatory</td>\n",
       "      <td>79951332685465031</td>\n",
       "      <td>864691135366988025</td>\n",
       "      <td>[110208, 153664, 23546]</td>\n",
       "    </tr>\n",
       "    <tr>\n",
       "      <th>2</th>\n",
       "      <td>263203</td>\n",
       "      <td>t</td>\n",
       "      <td>aibs_coarse_excitatory</td>\n",
       "      <td>excitatory</td>\n",
       "      <td>87694643458256575</td>\n",
       "      <td>864691135181741826</td>\n",
       "      <td>[166512, 174176, 24523]</td>\n",
       "    </tr>\n",
       "    <tr>\n",
       "      <th>3</th>\n",
       "      <td>456177</td>\n",
       "      <td>t</td>\n",
       "      <td>aibs_coarse_excitatory</td>\n",
       "      <td>excitatory</td>\n",
       "      <td>102677963354799688</td>\n",
       "      <td>864691135337690598</td>\n",
       "      <td>[275616, 135120, 24873]</td>\n",
       "    </tr>\n",
       "    <tr>\n",
       "      <th>4</th>\n",
       "      <td>364447</td>\n",
       "      <td>t</td>\n",
       "      <td>aibs_coarse_excitatory</td>\n",
       "      <td>excitatory</td>\n",
       "      <td>94449079618306553</td>\n",
       "      <td>864691136883828334</td>\n",
       "      <td>[216064, 166800, 15025]</td>\n",
       "    </tr>\n",
       "  </tbody>\n",
       "</table>\n",
       "</div>"
      ],
      "text/plain": [
       "       id valid   classification_system   cell_type    pt_supervoxel_id  \\\n",
       "0  485509     t  aibs_coarse_excitatory  excitatory  103588564537113366   \n",
       "1  113721     t  aibs_coarse_excitatory  excitatory   79951332685465031   \n",
       "2  263203     t  aibs_coarse_excitatory  excitatory   87694643458256575   \n",
       "3  456177     t  aibs_coarse_excitatory  excitatory  102677963354799688   \n",
       "4  364447     t  aibs_coarse_excitatory  excitatory   94449079618306553   \n",
       "\n",
       "           pt_root_id              pt_position  \n",
       "0  864691136740606812  [282608, 103808, 20318]  \n",
       "1  864691135366988025  [110208, 153664, 23546]  \n",
       "2  864691135181741826  [166512, 174176, 24523]  \n",
       "3  864691135337690598  [275616, 135120, 24873]  \n",
       "4  864691136883828334  [216064, 166800, 15025]  "
      ]
     },
     "execution_count": 17,
     "metadata": {},
     "output_type": "execute_result"
    }
   ],
   "source": [
    "neuron_type_df_coverall_notallright.head()"
   ]
  },
  {
   "cell_type": "code",
   "execution_count": 18,
   "id": "3eaf4961",
   "metadata": {},
   "outputs": [],
   "source": [
    "ids_of_coverall_notallright_ser = pd.Series(neuron_type_df_coverall_notallright.loc[:,\"pt_root_id\"])\n",
    "types_of_coverall_notallright_ser = pd.Series(neuron_type_df_coverall_notallright.loc[:,\"cell_type\"])"
   ]
  },
  {
   "cell_type": "code",
   "execution_count": 19,
   "id": "99644308",
   "metadata": {
    "code_folding": [
     0
    ]
   },
   "outputs": [
    {
     "name": "stdout",
     "output_type": "stream",
     "text": [
      "492\n"
     ]
    }
   ],
   "source": [
    "# valid_ids\n",
    "ext_neuron_valid_ids_lst = []\n",
    "for i in range(len(ids_of_coverall_notallright_ser)):\n",
    "    if ids_of_coverall_notallright_ser[i] in valid_ids and types_of_coverall_notallright_ser[i] == 'excitatory':\n",
    "        ext_neuron_valid_ids_lst.append(ids_of_coverall_notallright_ser[i])\n",
    "print(len(ext_neuron_valid_ids_lst))"
   ]
  },
  {
   "cell_type": "code",
   "execution_count": 20,
   "id": "e904c748",
   "metadata": {},
   "outputs": [],
   "source": [
    "valid_ids = ext_neuron_valid_ids_lst"
   ]
  },
  {
   "cell_type": "code",
   "execution_count": 21,
   "id": "6db545d8",
   "metadata": {
    "code_folding": [
     0
    ]
   },
   "outputs": [],
   "source": [
    "# setting up str_num_2_presypneuron and presypneuron_2_str_num to simplify the representation of pre-syp-neuron-id\n",
    "# using string number (e.g.: \"20\") to correspond to the long-digit id of the pre-syp-neuron \n",
    "num_rep_2_presypneuron = {}\n",
    "presypneuron_2_num_rep = {}\n",
    "for i, the_id in enumerate(valid_ids):\n",
    "    num_rep_2_presypneuron[i] = the_id\n",
    "    presypneuron_2_num_rep[the_id] = i"
   ]
  },
  {
   "cell_type": "code",
   "execution_count": 22,
   "id": "8309d470",
   "metadata": {
    "code_folding": []
   },
   "outputs": [],
   "source": [
    "#500 Server Error reported but should try again\n",
    "# neuron_type_df_notcoverall_allright=client.materialize.query_table('allen_visp_column_soma_coarse_types_v1')"
   ]
  },
  {
   "cell_type": "markdown",
   "id": "1b912460",
   "metadata": {},
   "source": [
    "# working on sheezneat"
   ]
  },
  {
   "cell_type": "code",
   "execution_count": 23,
   "id": "e4dbbc90",
   "metadata": {
    "code_folding": [],
    "scrolled": true
   },
   "outputs": [],
   "source": [
    "def len_3_to_6_num_seqs_and_num_syps_of_n_randomly_chosen_valid_neurons_with_m_trials(n, m, valid_ids):\n",
    "    num_seqs = {'len3':[], 'len4':[], 'len5':[], 'len6':[]}\n",
    "    num_syps = [] #running with all valid neuron the number is 105162\n",
    "    with tqdm(total= m) as pbar:\n",
    "        for i in range(m): #30, 60, 120, 240, 480 \n",
    "            pbar.update(1)\n",
    "            \n",
    "            #randomly choosing n elements without replacement \n",
    "            chose_ones = random.sample(valid_ids, n)\n",
    "\n",
    "            #getting the info of the sample \n",
    "            syp_dict, syp_voxel_pos, syp_pos_tracking = utils.creating_syp_information(chose_ones, len(chose_ones), client)\n",
    "            syp_voxel_pos = np.delete(syp_voxel_pos, 0, 0)\n",
    "            conversion_array = np.array([4, 4, 40])\n",
    "            syp_xyz_pos = np.empty_like(syp_voxel_pos)\n",
    "            for i in range(np.shape(syp_voxel_pos)[0]):\n",
    "                syp_xyz_pos[i] = np.multiply(syp_voxel_pos[i], conversion_array)\n",
    "            num_syps.append(len(syp_voxel_pos)) \n",
    "\n",
    "            #setting up kd tree\n",
    "            syp_pos_kd_tree = sci_spatial.KDTree(syp_xyz_pos, 3)\n",
    "            num_rows_of_syp_positions, num_cols_of_syp_positions = np.shape(syp_xyz_pos)\n",
    "            radius = 5e3\n",
    "\n",
    "            #applying kd tree to obtain spatially ordered seq\n",
    "            #this part of the code takes care of the potential of multiple counting same sequence of pre-syp-neurons ]\n",
    "            #that have the same post-ysp-neurons connections and address the issue of end points of cand seq swap. \n",
    "\n",
    "            seqs_with_post_neuron_lst = {}\n",
    "            syp_ids_of_seqs_with_post_neuron_lst = {}\n",
    "\n",
    "    #         with tqdm(total= num_rows_of_syp_positions) as pbar:\n",
    "            for i in range(num_rows_of_syp_positions):\n",
    "    #             pbar.update(1)\n",
    "                da_pt_and_its_neighbors_pos_lst = []\n",
    "                da_pt_pos = syp_xyz_pos[i]\n",
    "                resulting_neighbors_idxes = syp_pos_kd_tree.query_ball_point(da_pt_pos, radius, p=2.0, eps=0, workers=3, return_sorted=None, return_length=False)\n",
    "                da_pt_syp_ID = syp_pos_tracking[i]\n",
    "                neighbors_IDs_list = []\n",
    "                for neighbor_pos_idx in resulting_neighbors_idxes:\n",
    "                    neighbor_ID = syp_pos_tracking[neighbor_pos_idx]\n",
    "                    neighbors_IDs_list.append(neighbor_ID)\n",
    "                syps_with_same_post_syp_ID_lst = []\n",
    "                neur_with_same_post_syp_ID_lst = []\n",
    "                da_pt_post_syp_id = syp_dict[da_pt_syp_ID][0][1]\n",
    "                for neighbor_id in neighbors_IDs_list:\n",
    "                    neighbor_pre_syp_id, neighbor_post_syp_id = syp_dict[neighbor_id][0]\n",
    "                    if neighbor_post_syp_id == da_pt_post_syp_id:\n",
    "                        syps_with_same_post_syp_ID_lst.append(neighbor_id)\n",
    "                        neur_with_same_post_syp_ID_lst.append(neighbor_pre_syp_id)\n",
    "                        da_pt_and_its_neighbors_pos_lst.append(syp_xyz_pos[syp_pos_tracking.index(neighbor_id)])\n",
    "                ### cast syps_with_post_syp_ID_lst to np array \n",
    "                syps_with_same_post_syp_ID_lst = np.array(syps_with_same_post_syp_ID_lst)\n",
    "                neur_with_same_post_syp_ID_lst = np.array(neur_with_same_post_syp_ID_lst)\n",
    "\n",
    "                ### sorted based on spatial ordering \n",
    "                da_pt_dist_matrix = distance_matrix(da_pt_and_its_neighbors_pos_lst, da_pt_and_its_neighbors_pos_lst)\n",
    "                da_pt_dist_mat_max_vals = np.amax(da_pt_dist_matrix)\n",
    "                da_pt_maxval_loc_in_dist_mat = np.where(da_pt_dist_matrix == np.amax(da_pt_dist_matrix))\n",
    "                da_pt_anchor_pt_idx = da_pt_maxval_loc_in_dist_mat[0][0] #problem with naming variable \n",
    "                ordered_seq_idxs = np.argsort(da_pt_dist_matrix[da_pt_anchor_pt_idx]) #\n",
    "                ordered_syn_ids = tuple(syps_with_same_post_syp_ID_lst[ordered_seq_idxs]) #make syps_... an array instead of list\n",
    "                ordered_neur_ids = tuple(neur_with_same_post_syp_ID_lst[ordered_seq_idxs])\n",
    "\n",
    "                if not ordered_neur_ids in seqs_with_post_neuron_lst:\n",
    "                    seqs_with_post_neuron_lst[ordered_neur_ids] = [da_pt_post_syp_id]\n",
    "                    syp_ids_of_seqs_with_post_neuron_lst[ordered_neur_ids] = [ordered_syn_ids]\n",
    "                else:\n",
    "                    if not da_pt_post_syp_id in seqs_with_post_neuron_lst[ordered_neur_ids]:\n",
    "                        seqs_with_post_neuron_lst[ordered_neur_ids].append(da_pt_post_syp_id)\n",
    "                        syp_ids_of_seqs_with_post_neuron_lst[ordered_neur_ids].append(ordered_syn_ids)\n",
    "\n",
    "        #### getting the seqs with diff len from 3 to 6\n",
    "            for j in range(3, 7):\n",
    "                occurences = [len(seqs_with_post_neuron_lst[key]) for key in seqs_with_post_neuron_lst if len(key)==j]\n",
    "                num_seqs['len'+str(j)].append(len(occurences))\n",
    "    return num_seqs, num_syps"
   ]
  },
  {
   "cell_type": "code",
   "execution_count": 24,
   "id": "defef98a",
   "metadata": {
    "scrolled": true
   },
   "outputs": [
    {
     "name": "stderr",
     "output_type": "stream",
     "text": [
      "100%|██████████████████████████████████████████████| 20/20 [02:10<00:00,  6.52s/it]\n"
     ]
    }
   ],
   "source": [
    "num_seqs_of_30_neurons, num_syps_of_30_neurons = len_3_to_6_num_seqs_and_num_syps_of_n_randomly_chosen_valid_neurons_with_m_trials(30, 20, valid_ids)\n",
    "utils.save_obj_with_name(num_seqs_of_30_neurons, 'num_seqs_of_30_neurons')\n",
    "utils.save_obj_with_name(num_syps_of_30_neurons, 'num_syps_of_30_neurons')"
   ]
  },
  {
   "cell_type": "code",
   "execution_count": 26,
   "id": "44e1bf17",
   "metadata": {},
   "outputs": [
    {
     "name": "stderr",
     "output_type": "stream",
     "text": [
      "100%|██████████████████████████████████████████████| 20/20 [03:45<00:00, 11.27s/it]\n"
     ]
    }
   ],
   "source": [
    "num_seqs_of_60_neurons, num_syps_of_60_neurons = len_3_to_6_num_seqs_and_num_syps_of_n_randomly_chosen_valid_neurons_with_m_trials(60, 20, valid_ids)\n",
    "utils.save_obj_with_name(num_seqs_of_60_neurons, 'num_seqs_of_60_neurons')\n",
    "utils.save_obj_with_name(num_syps_of_60_neurons, 'num_syps_of_60_neurons')"
   ]
  },
  {
   "cell_type": "code",
   "execution_count": 28,
   "id": "42f45f0b",
   "metadata": {},
   "outputs": [
    {
     "name": "stderr",
     "output_type": "stream",
     "text": [
      "100%|██████████████████████████████████████████████| 20/20 [08:26<00:00, 25.31s/it]\n"
     ]
    }
   ],
   "source": [
    "num_seqs_of_120_neurons, num_syps_of_120_neurons = len_3_to_6_num_seqs_and_num_syps_of_n_randomly_chosen_valid_neurons_with_m_trials(120, 20, valid_ids)\n",
    "utils.save_obj_with_name(num_seqs_of_120_neurons, 'num_seqs_of_120_neurons')\n",
    "utils.save_obj_with_name(num_syps_of_120_neurons, 'num_syps_of_120_neurons')"
   ]
  },
  {
   "cell_type": "code",
   "execution_count": 31,
   "id": "08774ff6",
   "metadata": {
    "scrolled": true
   },
   "outputs": [
    {
     "name": "stderr",
     "output_type": "stream",
     "text": [
      "100%|██████████████████████████████████████████████| 20/20 [20:51<00:00, 62.58s/it]\n"
     ]
    }
   ],
   "source": [
    "num_seqs_of_240_neurons, num_syps_of_240_neurons = len_3_to_6_num_seqs_and_num_syps_of_n_randomly_chosen_valid_neurons_with_m_trials(240, 20, valid_ids)\n",
    "utils.save_obj_with_name(num_seqs_of_240_neurons, 'num_seqs_of_240_neurons')\n",
    "utils.save_obj_with_name(num_syps_of_240_neurons, 'num_syps_of_240_neurons')"
   ]
  },
  {
   "cell_type": "code",
   "execution_count": 33,
   "id": "eb95952c",
   "metadata": {},
   "outputs": [
    {
     "name": "stderr",
     "output_type": "stream",
     "text": [
      "100%|█████████████████████████████████████████████| 20/20 [59:03<00:00, 177.16s/it]\n"
     ]
    }
   ],
   "source": [
    "num_seqs_of_480_neurons, num_syps_of_480_neurons = len_3_to_6_num_seqs_and_num_syps_of_n_randomly_chosen_valid_neurons_with_m_trials(480, 20, valid_ids)\n",
    "utils.save_obj_with_name(num_seqs_of_480_neurons, 'num_seqs_of_480_neurons')\n",
    "utils.save_obj_with_name(num_syps_of_480_neurons, 'num_syps_of_480_neurons')"
   ]
  },
  {
   "cell_type": "code",
   "execution_count": 30,
   "id": "d8e8f77c",
   "metadata": {},
   "outputs": [],
   "source": [
    "num_seqs_of_30_neurons = utils.load_obj_from_filename('num_seqs_of_30_neurons')\n",
    "num_syps_of_30_neurons = utils.load_obj_from_filename('num_syps_of_30_neurons')\n",
    "num_seqs_of_60_neurons = utils.load_obj_from_filename('num_seqs_of_60_neurons')\n",
    "num_syps_of_60_neurons = utils.load_obj_from_filename('num_syps_of_60_neurons')\n",
    "num_seqs_of_120_neurons = utils.load_obj_from_filename('num_seqs_of_120_neurons')\n",
    "num_syps_of_120_neurons = utils.load_obj_from_filename('num_syps_of_120_neurons')\n",
    "num_seqs_of_240_neurons = utils.load_obj_from_filename('num_seqs_of_240_neurons')\n",
    "num_syps_of_240_neurons = utils.load_obj_from_filename('num_syps_of_240_neurons')\n",
    "num_seqs_of_480_neurons = utils.load_obj_from_filename('num_seqs_of_480_neurons')\n",
    "num_syps_of_480_neurons = utils.load_obj_from_filename('num_syps_of_480_neurons')"
   ]
  },
  {
   "cell_type": "code",
   "execution_count": null,
   "id": "6edf4a3a",
   "metadata": {},
   "outputs": [],
   "source": []
  },
  {
   "cell_type": "code",
   "execution_count": null,
   "id": "786ddd16",
   "metadata": {},
   "outputs": [],
   "source": []
  },
  {
   "cell_type": "code",
   "execution_count": null,
   "id": "1ae20725",
   "metadata": {},
   "outputs": [],
   "source": [
    "print('using radius = 5um for the kd tree')\n",
    "legends = []\n",
    "for i in range(3, 7):\n",
    "    occurences = [len(seqs_with_post_neuron_lst[key]) for key in seqs_with_post_neuron_lst if len(key)==i]\n",
    "    occ_array = np.array(occurences)\n",
    "    print('ttl number of seqs with len' + str(i) + ' = ' + str(len(occ_array)))\n",
    "    plt.plot(np.sort(occ_array), np.linspace(0, 1, len(occ_array), endpoint=False))\n",
    "    plt.ylim([0.5, 1])\n",
    "    plt.xscale(\"log\")\n",
    "    legends.append('len' + str(i))\n",
    "plt.legend(legends)\n",
    "plt.title(\"cdf of number of occurance on log scale\")\n",
    "plt.show()"
   ]
  }
 ],
 "metadata": {
  "kernelspec": {
   "display_name": "Python 3 (ipykernel)",
   "language": "python",
   "name": "python3"
  },
  "language_info": {
   "codemirror_mode": {
    "name": "ipython",
    "version": 3
   },
   "file_extension": ".py",
   "mimetype": "text/x-python",
   "name": "python",
   "nbconvert_exporter": "python",
   "pygments_lexer": "ipython3",
   "version": "3.7.0"
  }
 },
 "nbformat": 4,
 "nbformat_minor": 5
}
